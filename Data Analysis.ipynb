{
 "metadata": {
  "name": "Data Analysis"
 },
 "nbformat": 3,
 "nbformat_minor": 0,
 "worksheets": [
  {
   "cells": [
    {
     "cell_type": "heading",
     "level": 1,
     "metadata": {},
     "source": [
      "Preliminaries"
     ]
    },
    {
     "cell_type": "code",
     "collapsed": false,
     "input": [
      "import datetime\n",
      "import pandas as pd\n",
      "import numpy as np\n",
      "import sqlite3\n",
      "import pandas.io.sql as psql"
     ],
     "language": "python",
     "metadata": {},
     "outputs": [],
     "prompt_number": 6
    },
    {
     "cell_type": "code",
     "collapsed": false,
     "input": [
      "conn = sqlite3.connect(\"/home/florian/workspace/VelibApp/velib_2.db\")\n",
      "df = psql.frame_query('select * from data', con=conn)    \n",
      "print 'loaded dataframe from disk. # Records: ', len(df)"
     ],
     "language": "python",
     "metadata": {},
     "outputs": [
      {
       "output_type": "stream",
       "stream": "stdout",
       "text": [
        "loaded dataframe from disk. # Records:  227492\n"
       ]
      }
     ],
     "prompt_number": 7
    },
    {
     "cell_type": "heading",
     "level": 1,
     "metadata": {},
     "source": [
      "Database description"
     ]
    },
    {
     "cell_type": "code",
     "collapsed": false,
     "input": [
      "df.describe()"
     ],
     "language": "python",
     "metadata": {},
     "outputs": [
      {
       "html": [
        "<pre>\n",
        "&ltclass 'pandas.core.frame.DataFrame'&gt\n",
        "Index: 8 entries, count to max\n",
        "Data columns (total 5 columns):\n",
        "station_number           8  non-null values\n",
        "bike_stands              8  non-null values\n",
        "available_bikes          8  non-null values\n",
        "available_bike_stands    8  non-null values\n",
        "last_update              8  non-null values\n",
        "dtypes: float64(5)\n",
        "</pre>"
       ],
       "output_type": "pyout",
       "prompt_number": 8,
       "text": [
        "       station_number    bike_stands  available_bikes  available_bike_stands  \\\n",
        "count   227492.000000  227492.000000    227492.000000          227492.000000   \n",
        "mean     15827.553237      32.568657        12.833436              18.102610   \n",
        "std       9318.822793      13.179798        13.836677              13.791246   \n",
        "min        903.000000       7.000000         0.000000               0.000000   \n",
        "25%      10012.000000      23.000000         2.000000               7.000000   \n",
        "50%      15027.000000      30.000000         8.000000              17.000000   \n",
        "75%      19118.000000      40.000000        20.000000              27.000000   \n",
        "max      44102.000000      72.000000        69.000000              69.000000   \n",
        "\n",
        "        last_update  \n",
        "count  2.274920e+05  \n",
        "mean   1.370368e+12  \n",
        "std    1.537002e+07  \n",
        "min    1.369991e+12  \n",
        "25%    1.370365e+12  \n",
        "50%    1.370371e+12  \n",
        "75%    1.370376e+12  \n",
        "max    1.370382e+12  "
       ]
      }
     ],
     "prompt_number": 8
    },
    {
     "cell_type": "code",
     "collapsed": false,
     "input": [
      "stations = df.station_number.unique()\n",
      "print stations"
     ],
     "language": "python",
     "metadata": {},
     "outputs": [
      {
       "output_type": "stream",
       "stream": "stdout",
       "text": [
        "[ 31705.  10042.   8020. ...,  19121.   1020.  10007.]\n"
       ]
      }
     ],
     "prompt_number": 9
    },
    {
     "cell_type": "heading",
     "level": 1,
     "metadata": {},
     "source": [
      "Converting timestamps to datetime objects"
     ]
    },
    {
     "cell_type": "code",
     "collapsed": false,
     "input": [
      "def timestamps_2_datetime(ts):\n",
      "    return map(lambda ts: datetime.datetime.fromtimestamp(ts / 1000.), ts)"
     ],
     "language": "python",
     "metadata": {},
     "outputs": [],
     "prompt_number": 10
    },
    {
     "cell_type": "code",
     "collapsed": false,
     "input": [
      "print timestamps_2_datetime(df[df.station_number == 31705].last_update)[:10]"
     ],
     "language": "python",
     "metadata": {},
     "outputs": [
      {
       "output_type": "stream",
       "stream": "stdout",
       "text": [
        "[datetime.datetime(2013, 6, 3, 23, 52, 13), datetime.datetime(2013, 6, 3, 23, 52, 13), datetime.datetime(2013, 6, 4, 0, 12, 20), datetime.datetime(2013, 6, 4, 0, 12, 20), datetime.datetime(2013, 6, 4, 0, 22, 24), datetime.datetime(2013, 6, 4, 0, 42, 32), datetime.datetime(2013, 6, 4, 0, 42, 32), datetime.datetime(2013, 6, 4, 17, 36, 36), datetime.datetime(2013, 6, 4, 17, 36, 36), datetime.datetime(2013, 6, 4, 17, 46, 40)]\n"
       ]
      }
     ],
     "prompt_number": 11
    },
    {
     "cell_type": "heading",
     "level": 1,
     "metadata": {},
     "source": [
      "Global statistics"
     ]
    },
    {
     "cell_type": "markdown",
     "metadata": {},
     "source": [
      "Below, we plot the histogram for the number of bike stands distribution in the dataset."
     ]
    },
    {
     "cell_type": "code",
     "collapsed": false,
     "input": [
      "df.bike_stands.hist()"
     ],
     "language": "python",
     "metadata": {},
     "outputs": [
      {
       "output_type": "pyout",
       "prompt_number": 12,
       "text": [
        "<matplotlib.axes.AxesSubplot at 0xb008d6c>"
       ]
      },
      {
       "output_type": "display_data",
       "png": "[encoded data removed]"
      }
     ],
     "prompt_number": 12
    },
    {
     "cell_type": "heading",
     "level": 1,
     "metadata": {},
     "source": [
      "Statistics for the station down the road"
     ]
    },
    {
     "cell_type": "code",
     "collapsed": false,
     "input": [
      "my_station = df[df.station_number == 31705]\n"
     ],
     "language": "python",
     "metadata": {},
     "outputs": [],
     "prompt_number": 13
    },
    {
     "cell_type": "code",
     "collapsed": false,
     "input": [
      "print my_station[:10]"
     ],
     "language": "python",
     "metadata": {},
     "outputs": [
      {
       "output_type": "stream",
       "stream": "stdout",
       "text": [
        "       station_number  bike_stands  available_bikes  available_bike_stands  \\\n",
        "0               31705           50                1                     39   \n",
        "1225            31705           50                1                     39   \n",
        "2450            31705           50                1                     39   \n",
        "3675            31705           50                1                     39   \n",
        "4900            31705           50                1                     39   \n",
        "6125            31705           50                1                     39   \n",
        "7350            31705           50                1                     39   \n",
        "8575            31705           50                0                     40   \n",
        "9798            31705           50                0                     40   \n",
        "11021           31705           50                0                     40   \n",
        "\n",
        "        last_update  \n",
        "0      1.370296e+12  \n",
        "1225   1.370296e+12  \n",
        "2450   1.370298e+12  \n",
        "3675   1.370298e+12  \n",
        "4900   1.370298e+12  \n",
        "6125   1.370299e+12  \n",
        "7350   1.370299e+12  \n",
        "8575   1.370360e+12  \n",
        "9798   1.370360e+12  \n",
        "11021  1.370361e+12  \n"
       ]
      }
     ],
     "prompt_number": 14
    },
    {
     "cell_type": "code",
     "collapsed": false,
     "input": [
      "fig = figure()\n",
      "t = timestamps_2_datetime(my_station.last_update)\n",
      "plot_date(t, my_station.available_bikes, 'ro', label=\"bikes available\")\n",
      "plot_date(t, my_station.available_bike_stands, 'bo', label=\"stands available\")\n",
      "ax = gca()\n",
      "ax.xaxis.set_major_locator(mpl.dates.HourLocator())\n",
      "hoursFmt = DateFormatter('%H')\n",
      "ax.xaxis.set_major_formatter(hoursFmt)\n",
      "fig.autofmt_xdate()\n",
      "grid(True)\n",
      "legend(loc=5)"
     ],
     "language": "python",
     "metadata": {},
     "outputs": [
      {
       "output_type": "pyout",
       "prompt_number": 15,
       "text": [
        "<matplotlib.legend.Legend at 0xafdc8ec>"
       ]
      },
      {
       "output_type": "display_data",
       "png": "[encoded data removed]"
      }
     ],
     "prompt_number": 15
    },
    {
     "cell_type": "heading",
     "level": 1,
     "metadata": {},
     "source": [
      "Scatter plot as a function of time"
     ]
    },
    {
     "cell_type": "markdown",
     "metadata": {},
     "source": [
      "First step: get a full database update using the helper functions. Reason: storing the latitude longitude coordinates of the stations."
     ]
    },
    {
     "cell_type": "code",
     "collapsed": false,
     "input": [
      "import urllib2\n",
      "import json\n",
      "import os\n",
      "\n",
      "with open(os.path.expanduser('/home/florian/workspace/VelibApp/.velib'), 'r') as f:\n",
      "    key = f.read()\n",
      "    \n",
      "def geturl(path):\n",
      "    delim = '&' if '?' in path else '?'  \n",
      "    return \"https://api.jcdecaux.com/vls/v1/{0:s}{1:s}apiKey={2:s}\".format(path, delim, key)\n",
      "\n",
      "def get(path):\n",
      "    url = geturl(path)\n",
      "    return json.loads(urllib2.urlopen(url).read())\n",
      "\n",
      "stations = get('stations?contract=Paris')\n",
      "stations_df = pd.DataFrame(stations)"
     ],
     "language": "python",
     "metadata": {},
     "outputs": [],
     "prompt_number": 16
    },
    {
     "cell_type": "markdown",
     "metadata": {},
     "source": [
      "Now that we have the raw data, we can isolate the coordinates $x$ and $y$."
     ]
    },
    {
     "cell_type": "code",
     "collapsed": false,
     "input": [
      "positions = np.array([(d['position']['lng'], d['position']['lat']) for d in stations])\n",
      "indices = positions.min(axis=1) != 0.0\n",
      "positions = positions[indices,:]\n",
      "x, y = positions.T"
     ],
     "language": "python",
     "metadata": {},
     "outputs": [],
     "prompt_number": 17
    },
    {
     "cell_type": "markdown",
     "metadata": {},
     "source": [
      "Let's now set a certain time and gather the historical information at that point from our database."
     ]
    },
    {
     "cell_type": "code",
     "collapsed": false,
     "input": [
      "t_0 = datetime.datetime(2013, 6, 4, 22, 0)\n",
      "datetime.datetime.t_0\n"
     ],
     "language": "python",
     "metadata": {},
     "outputs": [
      {
       "ename": "TypeError",
       "evalue": "Required argument 'timestamp' (pos 1) not found",
       "output_type": "pyerr",
       "traceback": [
        "\u001b[0;31m---------------------------------------------------------------------------\u001b[0m\n\u001b[0;31mTypeError\u001b[0m                                 Traceback (most recent call last)",
        "\u001b[0;32m<ipython-input-22-e4dc02a0f20d>\u001b[0m in \u001b[0;36m<module>\u001b[0;34m()\u001b[0m\n\u001b[1;32m      1\u001b[0m \u001b[0mt_0\u001b[0m \u001b[0;34m=\u001b[0m \u001b[0mdatetime\u001b[0m\u001b[0;34m.\u001b[0m\u001b[0mdatetime\u001b[0m\u001b[0;34m(\u001b[0m\u001b[0;36m2013\u001b[0m\u001b[0;34m,\u001b[0m \u001b[0;36m6\u001b[0m\u001b[0;34m,\u001b[0m \u001b[0;36m4\u001b[0m\u001b[0;34m,\u001b[0m \u001b[0;36m22\u001b[0m\u001b[0;34m,\u001b[0m \u001b[0;36m0\u001b[0m\u001b[0;34m)\u001b[0m\u001b[0;34m\u001b[0m\u001b[0m\n\u001b[0;32m----> 2\u001b[0;31m \u001b[0mt_0\u001b[0m\u001b[0;34m.\u001b[0m\u001b[0mfromtimestamp\u001b[0m\u001b[0;34m(\u001b[0m\u001b[0;34m)\u001b[0m\u001b[0;34m\u001b[0m\u001b[0m\n\u001b[0m",
        "\u001b[0;31mTypeError\u001b[0m: Required argument 'timestamp' (pos 1) not found"
       ]
      }
     ],
     "prompt_number": 22
    },
    {
     "cell_type": "markdown",
     "metadata": {},
     "source": [
      "Problem to solve: convert datetime object to timestamp, then search (per station) for closest timestamp, then display them in scatter plot."
     ]
    },
    {
     "cell_type": "code",
     "collapsed": false,
     "input": [
      "\n",
      "sizes = stations_df.bike_stands[indices]\n",
      "available_stands = stations_df.available_bike_stands[indices]\n"
     ],
     "language": "python",
     "metadata": {},
     "outputs": []
    },
    {
     "cell_type": "code",
     "collapsed": false,
     "input": [
      "figure(figsize=(12,8));\n",
      "scatter(x, y, c=available_stands, s=sizes, edgecolors='none', cmap=get_cmap('RdYlGn'));\n",
      "xticks([]);\n",
      "yticks([]);\n",
      "title(\"Available bike stands in Paris Velib' stations, {0:s}\".format(date));"
     ],
     "language": "python",
     "metadata": {},
     "outputs": []
    }
   ],
   "metadata": {}
  }
 ]
}